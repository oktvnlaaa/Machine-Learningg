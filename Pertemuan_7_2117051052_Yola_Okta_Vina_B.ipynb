{
  "nbformat": 4,
  "nbformat_minor": 0,
  "metadata": {
    "colab": {
      "provenance": [],
      "authorship_tag": "ABX9TyOMGOKADpbDE3Si0yV3TJUt",
      "include_colab_link": true
    },
    "kernelspec": {
      "name": "python3",
      "display_name": "Python 3"
    },
    "language_info": {
      "name": "python"
    }
  },
  "cells": [
    {
      "cell_type": "markdown",
      "metadata": {
        "id": "view-in-github",
        "colab_type": "text"
      },
      "source": [
        "<a href=\"https://colab.research.google.com/github/oktvnlaaa/Machine-Learningg/blob/main/Pertemuan_7_2117051052_Yola_Okta_Vina_B.ipynb\" target=\"_parent\"><img src=\"https://colab.research.google.com/assets/colab-badge.svg\" alt=\"Open In Colab\"/></a>"
      ]
    },
    {
      "cell_type": "markdown",
      "source": [
        "# Pertemuan 7"
      ],
      "metadata": {
        "id": "ynZLiUZzEG8i"
      }
    },
    {
      "cell_type": "markdown",
      "source": [
        "# Library"
      ],
      "metadata": {
        "id": "EMM_4La_EOt3"
      }
    },
    {
      "cell_type": "code",
      "execution_count": null,
      "metadata": {
        "colab": {
          "base_uri": "https://localhost:8080/"
        },
        "id": "6FoeqPS3Czl1",
        "outputId": "bc036fdc-94b6-4387-b2eb-eba7ee134f9c"
      },
      "outputs": [
        {
          "output_type": "stream",
          "name": "stdout",
          "text": [
            "Looking in indexes: https://pypi.org/simple, https://us-python.pkg.dev/colab-wheels/public/simple/\n",
            "Collecting kneed\n",
            "  Downloading kneed-0.8.2-py3-none-any.whl (10 kB)\n",
            "Requirement already satisfied: numpy>=1.14.2 in /usr/local/lib/python3.9/dist-packages (from kneed) (1.22.4)\n",
            "Requirement already satisfied: scipy>=1.0.0 in /usr/local/lib/python3.9/dist-packages (from kneed) (1.10.1)\n",
            "Installing collected packages: kneed\n",
            "Successfully installed kneed-0.8.2\n"
          ]
        }
      ],
      "source": [
        "!pip install kneed"
      ]
    },
    {
      "cell_type": "code",
      "source": [
        "import numpy as np\n",
        "import pandas as pd\n",
        "import matplotlib.pyplot as plt\n",
        "import seaborn as sns\n",
        "from sklearn.decomposition import PCA\n",
        "from sklearn.preprocessing import StandardScaler\n",
        "from sklearn.neighbors import NearestNeighbors\n",
        "from sklearn.cluster import DBSCAN\n",
        "from kneed import KneeLocator\n",
        "from sklearn.metrics import silhouette_score, calinski_harabasz_score, davies_bouldin_score"
      ],
      "metadata": {
        "id": "1WDz7ieAEZw4"
      },
      "execution_count": null,
      "outputs": []
    },
    {
      "cell_type": "markdown",
      "source": [
        "# Load Data"
      ],
      "metadata": {
        "id": "4HgDdyJ_J25L"
      }
    },
    {
      "cell_type": "code",
      "source": [
        "df = pd.read_csv(\"https://raw.githubusercontent.com/rahmantaufik27/dataset/main/study/student_score_pass.csv\")\n",
        "df.head()"
      ],
      "metadata": {
        "colab": {
          "base_uri": "https://localhost:8080/",
          "height": 206
        },
        "id": "f8A6ew4AI4Zh",
        "outputId": "cdc1bbc4-925b-45c8-cf17-3d9bef0b09d8"
      },
      "execution_count": null,
      "outputs": [
        {
          "output_type": "execute_result",
          "data": {
            "text/plain": [
              "          npm  activeness_score  assignment_score  pre_test_score  \\\n",
              "0  2022041101                99              71.0            93.0   \n",
              "1  2022041102                96              77.0             NaN   \n",
              "2  2022041103                86              71.0            84.0   \n",
              "3  2022041104                81              96.0             NaN   \n",
              "4  2022041105                93              85.0            68.0   \n",
              "\n",
              "   post_test_score  midterm_test_score  end_semester_test_score pass_test  \n",
              "0             52.0                44.0                       24  not pass  \n",
              "1             27.0               100.0                       89      pass  \n",
              "2             17.0                21.0                       41  not pass  \n",
              "3              NaN                11.0                       99  not pass  \n",
              "4             29.0                44.0                       50  not pass  "
            ],
            "text/html": [
              "\n",
              "  <div id=\"df-624af25d-1e1f-4590-bcf6-ee3d978d69be\">\n",
              "    <div class=\"colab-df-container\">\n",
              "      <div>\n",
              "<style scoped>\n",
              "    .dataframe tbody tr th:only-of-type {\n",
              "        vertical-align: middle;\n",
              "    }\n",
              "\n",
              "    .dataframe tbody tr th {\n",
              "        vertical-align: top;\n",
              "    }\n",
              "\n",
              "    .dataframe thead th {\n",
              "        text-align: right;\n",
              "    }\n",
              "</style>\n",
              "<table border=\"1\" class=\"dataframe\">\n",
              "  <thead>\n",
              "    <tr style=\"text-align: right;\">\n",
              "      <th></th>\n",
              "      <th>npm</th>\n",
              "      <th>activeness_score</th>\n",
              "      <th>assignment_score</th>\n",
              "      <th>pre_test_score</th>\n",
              "      <th>post_test_score</th>\n",
              "      <th>midterm_test_score</th>\n",
              "      <th>end_semester_test_score</th>\n",
              "      <th>pass_test</th>\n",
              "    </tr>\n",
              "  </thead>\n",
              "  <tbody>\n",
              "    <tr>\n",
              "      <th>0</th>\n",
              "      <td>2022041101</td>\n",
              "      <td>99</td>\n",
              "      <td>71.0</td>\n",
              "      <td>93.0</td>\n",
              "      <td>52.0</td>\n",
              "      <td>44.0</td>\n",
              "      <td>24</td>\n",
              "      <td>not pass</td>\n",
              "    </tr>\n",
              "    <tr>\n",
              "      <th>1</th>\n",
              "      <td>2022041102</td>\n",
              "      <td>96</td>\n",
              "      <td>77.0</td>\n",
              "      <td>NaN</td>\n",
              "      <td>27.0</td>\n",
              "      <td>100.0</td>\n",
              "      <td>89</td>\n",
              "      <td>pass</td>\n",
              "    </tr>\n",
              "    <tr>\n",
              "      <th>2</th>\n",
              "      <td>2022041103</td>\n",
              "      <td>86</td>\n",
              "      <td>71.0</td>\n",
              "      <td>84.0</td>\n",
              "      <td>17.0</td>\n",
              "      <td>21.0</td>\n",
              "      <td>41</td>\n",
              "      <td>not pass</td>\n",
              "    </tr>\n",
              "    <tr>\n",
              "      <th>3</th>\n",
              "      <td>2022041104</td>\n",
              "      <td>81</td>\n",
              "      <td>96.0</td>\n",
              "      <td>NaN</td>\n",
              "      <td>NaN</td>\n",
              "      <td>11.0</td>\n",
              "      <td>99</td>\n",
              "      <td>not pass</td>\n",
              "    </tr>\n",
              "    <tr>\n",
              "      <th>4</th>\n",
              "      <td>2022041105</td>\n",
              "      <td>93</td>\n",
              "      <td>85.0</td>\n",
              "      <td>68.0</td>\n",
              "      <td>29.0</td>\n",
              "      <td>44.0</td>\n",
              "      <td>50</td>\n",
              "      <td>not pass</td>\n",
              "    </tr>\n",
              "  </tbody>\n",
              "</table>\n",
              "</div>\n",
              "      <button class=\"colab-df-convert\" onclick=\"convertToInteractive('df-624af25d-1e1f-4590-bcf6-ee3d978d69be')\"\n",
              "              title=\"Convert this dataframe to an interactive table.\"\n",
              "              style=\"display:none;\">\n",
              "        \n",
              "  <svg xmlns=\"http://www.w3.org/2000/svg\" height=\"24px\"viewBox=\"0 0 24 24\"\n",
              "       width=\"24px\">\n",
              "    <path d=\"M0 0h24v24H0V0z\" fill=\"none\"/>\n",
              "    <path d=\"M18.56 5.44l.94 2.06.94-2.06 2.06-.94-2.06-.94-.94-2.06-.94 2.06-2.06.94zm-11 1L8.5 8.5l.94-2.06 2.06-.94-2.06-.94L8.5 2.5l-.94 2.06-2.06.94zm10 10l.94 2.06.94-2.06 2.06-.94-2.06-.94-.94-2.06-.94 2.06-2.06.94z\"/><path d=\"M17.41 7.96l-1.37-1.37c-.4-.4-.92-.59-1.43-.59-.52 0-1.04.2-1.43.59L10.3 9.45l-7.72 7.72c-.78.78-.78 2.05 0 2.83L4 21.41c.39.39.9.59 1.41.59.51 0 1.02-.2 1.41-.59l7.78-7.78 2.81-2.81c.8-.78.8-2.07 0-2.86zM5.41 20L4 18.59l7.72-7.72 1.47 1.35L5.41 20z\"/>\n",
              "  </svg>\n",
              "      </button>\n",
              "      \n",
              "  <style>\n",
              "    .colab-df-container {\n",
              "      display:flex;\n",
              "      flex-wrap:wrap;\n",
              "      gap: 12px;\n",
              "    }\n",
              "\n",
              "    .colab-df-convert {\n",
              "      background-color: #E8F0FE;\n",
              "      border: none;\n",
              "      border-radius: 50%;\n",
              "      cursor: pointer;\n",
              "      display: none;\n",
              "      fill: #1967D2;\n",
              "      height: 32px;\n",
              "      padding: 0 0 0 0;\n",
              "      width: 32px;\n",
              "    }\n",
              "\n",
              "    .colab-df-convert:hover {\n",
              "      background-color: #E2EBFA;\n",
              "      box-shadow: 0px 1px 2px rgba(60, 64, 67, 0.3), 0px 1px 3px 1px rgba(60, 64, 67, 0.15);\n",
              "      fill: #174EA6;\n",
              "    }\n",
              "\n",
              "    [theme=dark] .colab-df-convert {\n",
              "      background-color: #3B4455;\n",
              "      fill: #D2E3FC;\n",
              "    }\n",
              "\n",
              "    [theme=dark] .colab-df-convert:hover {\n",
              "      background-color: #434B5C;\n",
              "      box-shadow: 0px 1px 3px 1px rgba(0, 0, 0, 0.15);\n",
              "      filter: drop-shadow(0px 1px 2px rgba(0, 0, 0, 0.3));\n",
              "      fill: #FFFFFF;\n",
              "    }\n",
              "  </style>\n",
              "\n",
              "      <script>\n",
              "        const buttonEl =\n",
              "          document.querySelector('#df-624af25d-1e1f-4590-bcf6-ee3d978d69be button.colab-df-convert');\n",
              "        buttonEl.style.display =\n",
              "          google.colab.kernel.accessAllowed ? 'block' : 'none';\n",
              "\n",
              "        async function convertToInteractive(key) {\n",
              "          const element = document.querySelector('#df-624af25d-1e1f-4590-bcf6-ee3d978d69be');\n",
              "          const dataTable =\n",
              "            await google.colab.kernel.invokeFunction('convertToInteractive',\n",
              "                                                     [key], {});\n",
              "          if (!dataTable) return;\n",
              "\n",
              "          const docLinkHtml = 'Like what you see? Visit the ' +\n",
              "            '<a target=\"_blank\" href=https://colab.research.google.com/notebooks/data_table.ipynb>data table notebook</a>'\n",
              "            + ' to learn more about interactive tables.';\n",
              "          element.innerHTML = '';\n",
              "          dataTable['output_type'] = 'display_data';\n",
              "          await google.colab.output.renderOutput(dataTable, element);\n",
              "          const docLink = document.createElement('div');\n",
              "          docLink.innerHTML = docLinkHtml;\n",
              "          element.appendChild(docLink);\n",
              "        }\n",
              "      </script>\n",
              "    </div>\n",
              "  </div>\n",
              "  "
            ]
          },
          "metadata": {},
          "execution_count": 3
        }
      ]
    },
    {
      "cell_type": "markdown",
      "source": [
        "# Exploratory Data Analisis(EDA)\n",
        "\n",
        "Cek analisis data menggunakan statistika dan visualisasi"
      ],
      "metadata": {
        "id": "ckW9A4UZKExx"
      }
    },
    {
      "cell_type": "code",
      "source": [
        "# informasi datframe(jumlah data, jumlah kolom, jumlah baris, tipe data, dll)\n",
        "df.info()"
      ],
      "metadata": {
        "colab": {
          "base_uri": "https://localhost:8080/"
        },
        "id": "X4l6tWil3yo3",
        "outputId": "ce43a82c-c797-4f2f-9941-1ab493ae929b"
      },
      "execution_count": null,
      "outputs": [
        {
          "output_type": "stream",
          "name": "stdout",
          "text": [
            "<class 'pandas.core.frame.DataFrame'>\n",
            "RangeIndex: 372 entries, 0 to 371\n",
            "Data columns (total 8 columns):\n",
            " #   Column                   Non-Null Count  Dtype  \n",
            "---  ------                   --------------  -----  \n",
            " 0   npm                      372 non-null    int64  \n",
            " 1   activeness_score         372 non-null    int64  \n",
            " 2   assignment_score         364 non-null    float64\n",
            " 3   pre_test_score           336 non-null    float64\n",
            " 4   post_test_score          363 non-null    float64\n",
            " 5   midterm_test_score       361 non-null    float64\n",
            " 6   end_semester_test_score  372 non-null    int64  \n",
            " 7   pass_test                372 non-null    object \n",
            "dtypes: float64(4), int64(3), object(1)\n",
            "memory usage: 23.4+ KB\n"
          ]
        }
      ]
    },
    {
      "cell_type": "code",
      "source": [
        "# jumlah NaN/missing values setiap column\n",
        "df.isna().sum()"
      ],
      "metadata": {
        "colab": {
          "base_uri": "https://localhost:8080/"
        },
        "id": "3_hNB38A4M-E",
        "outputId": "4437b381-ba05-49ff-e676-062a7237e867"
      },
      "execution_count": null,
      "outputs": [
        {
          "output_type": "execute_result",
          "data": {
            "text/plain": [
              "npm                         0\n",
              "activeness_score            0\n",
              "assignment_score            8\n",
              "pre_test_score             36\n",
              "post_test_score             9\n",
              "midterm_test_score         11\n",
              "end_semester_test_score     0\n",
              "pass_test                   0\n",
              "dtype: int64"
            ]
          },
          "metadata": {},
          "execution_count": 5
        }
      ]
    },
    {
      "cell_type": "code",
      "source": [
        "# informasi statistik dataframe\n",
        "df.describe().transpose()"
      ],
      "metadata": {
        "colab": {
          "base_uri": "https://localhost:8080/",
          "height": 300
        },
        "id": "ablwayUp4VGo",
        "outputId": "822f4e0e-2848-4dcc-bdce-2fc02882f733"
      },
      "execution_count": null,
      "outputs": [
        {
          "output_type": "execute_result",
          "data": {
            "text/plain": [
              "                         count          mean         std           min  \\\n",
              "npm                      372.0  2.022041e+09  107.531391  2.022041e+09   \n",
              "activeness_score         372.0  1.677143e+02   38.023836  1.000000e+02   \n",
              "assignment_score         372.0  8.532967e+01    8.532866  7.000000e+01   \n",
              "pre_test_score           372.0  5.798810e+01   25.155471  1.000000e+01   \n",
              "post_test_score          372.0  5.279890e+01   25.377491  1.000000e+01   \n",
              "midterm_test_score       372.0  5.339889e+01   24.595847  1.000000e+01   \n",
              "end_semester_test_score  372.0  5.333065e+01   30.695107 -9.700000e+01   \n",
              "predicted_cluster        372.0 -1.881720e-02    0.136062 -1.000000e+00   \n",
              "\n",
              "                                  25%           50%           75%  \\\n",
              "npm                      2.022041e+09  2.022041e+09  2.022041e+09   \n",
              "activeness_score         1.677143e+02  1.677143e+02  1.677143e+02   \n",
              "assignment_score         7.900000e+01  8.532967e+01  9.200000e+01   \n",
              "pre_test_score           3.875000e+01  5.798810e+01  7.925000e+01   \n",
              "post_test_score          3.200000e+01  5.200000e+01  7.325000e+01   \n",
              "midterm_test_score       3.200000e+01  5.339889e+01  7.300000e+01   \n",
              "end_semester_test_score  3.100000e+01  5.250000e+01  7.900000e+01   \n",
              "predicted_cluster        0.000000e+00  0.000000e+00  0.000000e+00   \n",
              "\n",
              "                                  max  \n",
              "npm                      2.022041e+09  \n",
              "activeness_score         6.660000e+02  \n",
              "assignment_score         1.000000e+02  \n",
              "pre_test_score           1.000000e+02  \n",
              "post_test_score          1.000000e+02  \n",
              "midterm_test_score       1.000000e+02  \n",
              "end_semester_test_score  1.000000e+02  \n",
              "predicted_cluster        0.000000e+00  "
            ],
            "text/html": [
              "\n",
              "  <div id=\"df-1d5dccf5-7b3c-4202-b3bd-05c3924d0d44\">\n",
              "    <div class=\"colab-df-container\">\n",
              "      <div>\n",
              "<style scoped>\n",
              "    .dataframe tbody tr th:only-of-type {\n",
              "        vertical-align: middle;\n",
              "    }\n",
              "\n",
              "    .dataframe tbody tr th {\n",
              "        vertical-align: top;\n",
              "    }\n",
              "\n",
              "    .dataframe thead th {\n",
              "        text-align: right;\n",
              "    }\n",
              "</style>\n",
              "<table border=\"1\" class=\"dataframe\">\n",
              "  <thead>\n",
              "    <tr style=\"text-align: right;\">\n",
              "      <th></th>\n",
              "      <th>count</th>\n",
              "      <th>mean</th>\n",
              "      <th>std</th>\n",
              "      <th>min</th>\n",
              "      <th>25%</th>\n",
              "      <th>50%</th>\n",
              "      <th>75%</th>\n",
              "      <th>max</th>\n",
              "    </tr>\n",
              "  </thead>\n",
              "  <tbody>\n",
              "    <tr>\n",
              "      <th>npm</th>\n",
              "      <td>372.0</td>\n",
              "      <td>2.022041e+09</td>\n",
              "      <td>107.531391</td>\n",
              "      <td>2.022041e+09</td>\n",
              "      <td>2.022041e+09</td>\n",
              "      <td>2.022041e+09</td>\n",
              "      <td>2.022041e+09</td>\n",
              "      <td>2.022041e+09</td>\n",
              "    </tr>\n",
              "    <tr>\n",
              "      <th>activeness_score</th>\n",
              "      <td>372.0</td>\n",
              "      <td>1.677143e+02</td>\n",
              "      <td>38.023836</td>\n",
              "      <td>1.000000e+02</td>\n",
              "      <td>1.677143e+02</td>\n",
              "      <td>1.677143e+02</td>\n",
              "      <td>1.677143e+02</td>\n",
              "      <td>6.660000e+02</td>\n",
              "    </tr>\n",
              "    <tr>\n",
              "      <th>assignment_score</th>\n",
              "      <td>372.0</td>\n",
              "      <td>8.532967e+01</td>\n",
              "      <td>8.532866</td>\n",
              "      <td>7.000000e+01</td>\n",
              "      <td>7.900000e+01</td>\n",
              "      <td>8.532967e+01</td>\n",
              "      <td>9.200000e+01</td>\n",
              "      <td>1.000000e+02</td>\n",
              "    </tr>\n",
              "    <tr>\n",
              "      <th>pre_test_score</th>\n",
              "      <td>372.0</td>\n",
              "      <td>5.798810e+01</td>\n",
              "      <td>25.155471</td>\n",
              "      <td>1.000000e+01</td>\n",
              "      <td>3.875000e+01</td>\n",
              "      <td>5.798810e+01</td>\n",
              "      <td>7.925000e+01</td>\n",
              "      <td>1.000000e+02</td>\n",
              "    </tr>\n",
              "    <tr>\n",
              "      <th>post_test_score</th>\n",
              "      <td>372.0</td>\n",
              "      <td>5.279890e+01</td>\n",
              "      <td>25.377491</td>\n",
              "      <td>1.000000e+01</td>\n",
              "      <td>3.200000e+01</td>\n",
              "      <td>5.200000e+01</td>\n",
              "      <td>7.325000e+01</td>\n",
              "      <td>1.000000e+02</td>\n",
              "    </tr>\n",
              "    <tr>\n",
              "      <th>midterm_test_score</th>\n",
              "      <td>372.0</td>\n",
              "      <td>5.339889e+01</td>\n",
              "      <td>24.595847</td>\n",
              "      <td>1.000000e+01</td>\n",
              "      <td>3.200000e+01</td>\n",
              "      <td>5.339889e+01</td>\n",
              "      <td>7.300000e+01</td>\n",
              "      <td>1.000000e+02</td>\n",
              "    </tr>\n",
              "    <tr>\n",
              "      <th>end_semester_test_score</th>\n",
              "      <td>372.0</td>\n",
              "      <td>5.333065e+01</td>\n",
              "      <td>30.695107</td>\n",
              "      <td>-9.700000e+01</td>\n",
              "      <td>3.100000e+01</td>\n",
              "      <td>5.250000e+01</td>\n",
              "      <td>7.900000e+01</td>\n",
              "      <td>1.000000e+02</td>\n",
              "    </tr>\n",
              "    <tr>\n",
              "      <th>predicted_cluster</th>\n",
              "      <td>372.0</td>\n",
              "      <td>-1.881720e-02</td>\n",
              "      <td>0.136062</td>\n",
              "      <td>-1.000000e+00</td>\n",
              "      <td>0.000000e+00</td>\n",
              "      <td>0.000000e+00</td>\n",
              "      <td>0.000000e+00</td>\n",
              "      <td>0.000000e+00</td>\n",
              "    </tr>\n",
              "  </tbody>\n",
              "</table>\n",
              "</div>\n",
              "      <button class=\"colab-df-convert\" onclick=\"convertToInteractive('df-1d5dccf5-7b3c-4202-b3bd-05c3924d0d44')\"\n",
              "              title=\"Convert this dataframe to an interactive table.\"\n",
              "              style=\"display:none;\">\n",
              "        \n",
              "  <svg xmlns=\"http://www.w3.org/2000/svg\" height=\"24px\"viewBox=\"0 0 24 24\"\n",
              "       width=\"24px\">\n",
              "    <path d=\"M0 0h24v24H0V0z\" fill=\"none\"/>\n",
              "    <path d=\"M18.56 5.44l.94 2.06.94-2.06 2.06-.94-2.06-.94-.94-2.06-.94 2.06-2.06.94zm-11 1L8.5 8.5l.94-2.06 2.06-.94-2.06-.94L8.5 2.5l-.94 2.06-2.06.94zm10 10l.94 2.06.94-2.06 2.06-.94-2.06-.94-.94-2.06-.94 2.06-2.06.94z\"/><path d=\"M17.41 7.96l-1.37-1.37c-.4-.4-.92-.59-1.43-.59-.52 0-1.04.2-1.43.59L10.3 9.45l-7.72 7.72c-.78.78-.78 2.05 0 2.83L4 21.41c.39.39.9.59 1.41.59.51 0 1.02-.2 1.41-.59l7.78-7.78 2.81-2.81c.8-.78.8-2.07 0-2.86zM5.41 20L4 18.59l7.72-7.72 1.47 1.35L5.41 20z\"/>\n",
              "  </svg>\n",
              "      </button>\n",
              "      \n",
              "  <style>\n",
              "    .colab-df-container {\n",
              "      display:flex;\n",
              "      flex-wrap:wrap;\n",
              "      gap: 12px;\n",
              "    }\n",
              "\n",
              "    .colab-df-convert {\n",
              "      background-color: #E8F0FE;\n",
              "      border: none;\n",
              "      border-radius: 50%;\n",
              "      cursor: pointer;\n",
              "      display: none;\n",
              "      fill: #1967D2;\n",
              "      height: 32px;\n",
              "      padding: 0 0 0 0;\n",
              "      width: 32px;\n",
              "    }\n",
              "\n",
              "    .colab-df-convert:hover {\n",
              "      background-color: #E2EBFA;\n",
              "      box-shadow: 0px 1px 2px rgba(60, 64, 67, 0.3), 0px 1px 3px 1px rgba(60, 64, 67, 0.15);\n",
              "      fill: #174EA6;\n",
              "    }\n",
              "\n",
              "    [theme=dark] .colab-df-convert {\n",
              "      background-color: #3B4455;\n",
              "      fill: #D2E3FC;\n",
              "    }\n",
              "\n",
              "    [theme=dark] .colab-df-convert:hover {\n",
              "      background-color: #434B5C;\n",
              "      box-shadow: 0px 1px 3px 1px rgba(0, 0, 0, 0.15);\n",
              "      filter: drop-shadow(0px 1px 2px rgba(0, 0, 0, 0.3));\n",
              "      fill: #FFFFFF;\n",
              "    }\n",
              "  </style>\n",
              "\n",
              "      <script>\n",
              "        const buttonEl =\n",
              "          document.querySelector('#df-1d5dccf5-7b3c-4202-b3bd-05c3924d0d44 button.colab-df-convert');\n",
              "        buttonEl.style.display =\n",
              "          google.colab.kernel.accessAllowed ? 'block' : 'none';\n",
              "\n",
              "        async function convertToInteractive(key) {\n",
              "          const element = document.querySelector('#df-1d5dccf5-7b3c-4202-b3bd-05c3924d0d44');\n",
              "          const dataTable =\n",
              "            await google.colab.kernel.invokeFunction('convertToInteractive',\n",
              "                                                     [key], {});\n",
              "          if (!dataTable) return;\n",
              "\n",
              "          const docLinkHtml = 'Like what you see? Visit the ' +\n",
              "            '<a target=\"_blank\" href=https://colab.research.google.com/notebooks/data_table.ipynb>data table notebook</a>'\n",
              "            + ' to learn more about interactive tables.';\n",
              "          element.innerHTML = '';\n",
              "          dataTable['output_type'] = 'display_data';\n",
              "          await google.colab.output.renderOutput(dataTable, element);\n",
              "          const docLink = document.createElement('div');\n",
              "          docLink.innerHTML = docLinkHtml;\n",
              "          element.appendChild(docLink);\n",
              "        }\n",
              "      </script>\n",
              "    </div>\n",
              "  </div>\n",
              "  "
            ]
          },
          "metadata": {},
          "execution_count": 16
        }
      ]
    },
    {
      "cell_type": "code",
      "source": [
        "# cek outlier data\n",
        "sns.boxplot(df['activeness_score'])"
      ],
      "metadata": {
        "colab": {
          "base_uri": "https://localhost:8080/",
          "height": 447
        },
        "id": "vMkVu2Fz4dLd",
        "outputId": "78175b0a-00a2-419d-ea7f-10ad8fe1849e"
      },
      "execution_count": null,
      "outputs": [
        {
          "output_type": "execute_result",
          "data": {
            "text/plain": [
              "<Axes: >"
            ]
          },
          "metadata": {},
          "execution_count": 18
        },
        {
          "output_type": "display_data",
          "data": {
            "text/plain": [
              "<Figure size 640x480 with 1 Axes>"
            ],
            "image/png": "[encoded data removed]"
          },
          "metadata": {}
        }
      ]
    },
    {
      "cell_type": "markdown",
      "source": [
        "# Preprocessing"
      ],
      "metadata": {
        "id": "Y9w8Z9Oc4nlf"
      }
    },
    {
      "cell_type": "code",
      "source": [
        "# hapus data outlier\n",
        "df.loc[df[\"activeness_score\"]<0, \"activeness_score\"] = np.nan\n",
        "df.loc[df[\"activeness_score\"]>100, \"activeness_score\"] = np.nan"
      ],
      "metadata": {
        "id": "SnM5j7mB4pq8"
      },
      "execution_count": null,
      "outputs": []
    },
    {
      "cell_type": "code",
      "source": [
        "# assign missing values dengan mean untuk setiap column yang ada misiingnya\n",
        "df[\"activeness_score\"].fillna(value=df[\"activeness_score\"].mean(), inplace=True)\n",
        "df[\"assignment_score\"].fillna(value=df[\"assignment_score\"].mean(), inplace=True)\n",
        "df[\"pre_test_score\"].fillna(value=df[\"pre_test_score\"].mean(), inplace=True)\n",
        "df[\"post_test_score\"].fillna(value=df[\"post_test_score\"].mean(), inplace=True)\n",
        "df[\"midterm_test_score\"].fillna(value=df[\"midterm_test_score\"].mean(), inplace=True)"
      ],
      "metadata": {
        "id": "JFj2z4L749KE"
      },
      "execution_count": null,
      "outputs": []
    },
    {
      "cell_type": "code",
      "source": [
        "# hapus kolom yang tidak diperlukan\n",
        "df_clean = df.drop(['npm', 'pass_test'], axis=1)"
      ],
      "metadata": {
        "id": "5DorVLc45GXc"
      },
      "execution_count": null,
      "outputs": []
    },
    {
      "cell_type": "code",
      "source": [
        "# rescale datanya\n",
        "data_scaler = StandardScaler()\n",
        "scaled_data = data_scaler.fit_transform(df_clean)"
      ],
      "metadata": {
        "id": "2ASwhdh-5JnH"
      },
      "execution_count": null,
      "outputs": []
    },
    {
      "cell_type": "markdown",
      "source": [
        "# Modeling\n",
        "Modeling/Training data menggunakan algoritma hierarchical clustering"
      ],
      "metadata": {
        "id": "XkHJIeRx5NFB"
      }
    },
    {
      "cell_type": "code",
      "source": [
        "# mencari rentang nilai disetiap tetangga\n",
        "nbrs = NearestNeighbors().fit(scaled_data)\n",
        "neigh_dist, neigh_ind = nbrs.kneighbors(scaled_data)\n",
        "sort_neigh_dist = np.sort(neigh_dist, axis = 0)\n",
        "\n",
        "#plot datanya\n",
        "k_dist = sort_neigh_dist[:, 4]\n",
        "kneedle = KneeLocator(x = range(1, len(neigh_dist)+1), y=k_dist, S=1.0,\n",
        "                      curve = \"concave\", direction = \"increasing\", online = True)\n",
        "\n",
        "# mencari nilai epsilon yang didapat dari knee poin\n",
        "print(kneedle.knee_y)\n",
        "kneedle.plot_knee()\n",
        "plt.show()"
      ],
      "metadata": {
        "colab": {
          "base_uri": "https://localhost:8080/",
          "height": 562
        },
        "id": "jmqlrpaq5U9R",
        "outputId": "c212c8e1-6fe0-4379-f8e4-c9319dd0e418"
      },
      "execution_count": null,
      "outputs": [
        {
          "output_type": "stream",
          "name": "stdout",
          "text": [
            "4.0691847124016345\n"
          ]
        },
        {
          "output_type": "display_data",
          "data": {
            "text/plain": [
              "<Figure size 600x600 with 1 Axes>"
            ],
            "image/png": "[encoded data removed]"
          },
          "metadata": {}
        }
      ]
    },
    {
      "cell_type": "code",
      "source": [
        "clusters = DBSCAN(eps = 2, min_samples = 4).fit(scaled_data)\n",
        "label = clusters.labels_\n",
        "np.unique(label)"
      ],
      "metadata": {
        "colab": {
          "base_uri": "https://localhost:8080/"
        },
        "id": "lAkmpYkC7leZ",
        "outputId": "4c4c8f0a-0574-4d81-fd74-7868268b93e4"
      },
      "execution_count": null,
      "outputs": [
        {
          "output_type": "execute_result",
          "data": {
            "text/plain": [
              "array([-1,  0])"
            ]
          },
          "metadata": {},
          "execution_count": 25
        }
      ]
    },
    {
      "cell_type": "markdown",
      "source": [
        "# Visualisasi"
      ],
      "metadata": {
        "id": "Y920LTTJ8Q45"
      }
    },
    {
      "cell_type": "code",
      "source": [
        "df[\"predicted_cluster\"] = label\n",
        "# df_clean = df.drop(['npm', 'pass_test'], axis=1)\n",
        "reduced_data = PCA(n_components = 2).fit_transform(df_clean)\n",
        "df_reduced_data = pd.DataFrame(reduced_data, columns=[\"pca1\", \"pca2\"])\n",
        "sns.scatterplot(x = \"pca1\", y = \"pca2\", hue = df[\"predicted_cluster\"], data = df_reduced_data)\n",
        "plt.title(\"Cluster by DBSCAN\")\n",
        "plt.show()"
      ],
      "metadata": {
        "colab": {
          "base_uri": "https://localhost:8080/",
          "height": 472
        },
        "id": "MMnT19Ey8S6n",
        "outputId": "675a48fa-f065-4dd4-8452-59dd5177f334"
      },
      "execution_count": null,
      "outputs": [
        {
          "output_type": "display_data",
          "data": {
            "text/plain": [
              "<Figure size 640x480 with 1 Axes>"
            ],
            "image/png": "[encoded data removed]"
          },
          "metadata": {}
        }
      ]
    },
    {
      "cell_type": "markdown",
      "source": [
        "\n",
        "\n",
        "*  Hanya 2 clusters yang terbentuk (0, -1), secara visualisasi cluster terrpisah antara yang titik data yang dekat dengan titik data yang jauh/outlier\n",
        "*   untuk data ini, penggunaan DBSCAN lebig valid dibandingkan cluster berdasarkan hirarki\n",
        "\n"
      ],
      "metadata": {
        "id": "UHzo9LJL_4zw"
      }
    },
    {
      "cell_type": "markdown",
      "source": [
        "# Evaluasi"
      ],
      "metadata": {
        "id": "RNU6nw22AUic"
      }
    },
    {
      "cell_type": "code",
      "source": [
        "ss = silhouette_score(df_clean, label)\n",
        "print(f\"Akurasi verdasarkan Silhouette Score adalah: {ss}\")"
      ],
      "metadata": {
        "colab": {
          "base_uri": "https://localhost:8080/"
        },
        "id": "lxNVZy9qAWSb",
        "outputId": "9356c6f0-8926-411b-edf3-4b0cd8dd899d"
      },
      "execution_count": null,
      "outputs": [
        {
          "output_type": "stream",
          "name": "stdout",
          "text": [
            "Akurasi verdasarkan Silhouette Score adalah: 0.39540150073828156\n"
          ]
        }
      ]
    }
  ]
}