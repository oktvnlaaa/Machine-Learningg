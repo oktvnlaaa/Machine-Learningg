{
  "nbformat": 4,
  "nbformat_minor": 0,
  "metadata": {
    "colab": {
      "provenance": [],
      "authorship_tag": "ABX9TyN9ZHRZQK9WzESeXIqbeQ/D",
      "include_colab_link": true
    },
    "kernelspec": {
      "name": "python3",
      "display_name": "Python 3"
    },
    "language_info": {
      "name": "python"
    }
  },
  "cells": [
    {
      "cell_type": "markdown",
      "metadata": {
        "id": "view-in-github",
        "colab_type": "text"
      },
      "source": [
        "<a href=\"https://colab.research.google.com/github/oktvnlaaa/Machine-Learningg/blob/main/Pertemuan_3_2117051052_Yola_Okta_Vina.ipynb\" target=\"_parent\"><img src=\"https://colab.research.google.com/assets/colab-badge.svg\" alt=\"Open In Colab\"/></a>"
      ]
    },
    {
      "cell_type": "markdown",
      "source": [
        "# Pertemuan 3 Machine Learning\n",
        "\n",
        "02 Maret 2023"
      ],
      "metadata": {
        "id": "6Ce5gTpmhw0W"
      }
    },
    {
      "cell_type": "markdown",
      "source": [
        "#Library"
      ],
      "metadata": {
        "id": "KVu5N0fBh51s"
      }
    },
    {
      "cell_type": "code",
      "execution_count": null,
      "metadata": {
        "id": "S5uCsxAehFv_"
      },
      "outputs": [],
      "source": [
        "import numpy as np\n",
        "import pandas as pd\n",
        "import scipy\n",
        "from scipy.spatial.distance import cityblock, mahalanobis"
      ]
    },
    {
      "cell_type": "markdown",
      "source": [
        "#DataSet"
      ],
      "metadata": {
        "id": "3VWqKPPViQXY"
      }
    },
    {
      "cell_type": "code",
      "source": [
        "# dataset pertama untuk perhitungan menhattan distance dan euclidean distance\n",
        "P1 = np.array((4, 1))\n",
        "P2 = np.array((1, 3))\n",
        "\n",
        "# dataset kedua untuk perhitungan mahalanobis distance\n",
        "x = np.array([[7.0, 165, 5], [7.4, 160, 5], [7.1, 170, 4], [7.3, 150, 5], \\\n",
        "              [7.2, 160, 3]])"
      ],
      "metadata": {
        "id": "N2Ruw9kaiSwt"
      },
      "execution_count": null,
      "outputs": []
    },
    {
      "cell_type": "code",
      "source": [
        "# info dataset\n",
        "print(x.shape)\n",
        "print(x.ndim)\n",
        "print(x)"
      ],
      "metadata": {
        "colab": {
          "base_uri": "https://localhost:8080/"
        },
        "id": "yhYpUgHHioyd",
        "outputId": "338fbbe8-02c3-4952-8682-c791199b7472"
      },
      "execution_count": null,
      "outputs": [
        {
          "output_type": "stream",
          "name": "stdout",
          "text": [
            "(5, 3)\n",
            "2\n",
            "[[  7.  165.    5. ]\n",
            " [  7.4 160.    5. ]\n",
            " [  7.1 170.    4. ]\n",
            " [  7.3 150.    5. ]\n",
            " [  7.2 160.    3. ]]\n"
          ]
        }
      ]
    },
    {
      "cell_type": "markdown",
      "source": [
        "# Calculate Distance"
      ],
      "metadata": {
        "id": "udiMWleakGHU"
      }
    },
    {
      "cell_type": "markdown",
      "source": [
        "# Manhattan Distance"
      ],
      "metadata": {
        "id": "mTb24ygDkJqY"
      }
    },
    {
      "cell_type": "code",
      "source": [
        "mht_dist = cityblock(P1, P2)\n",
        "print(mht_dist)"
      ],
      "metadata": {
        "colab": {
          "base_uri": "https://localhost:8080/"
        },
        "id": "T0GRAs9xkQBU",
        "outputId": "9130727f-70bc-4d8c-df9e-2fbd3985264a"
      },
      "execution_count": null,
      "outputs": [
        {
          "output_type": "stream",
          "name": "stdout",
          "text": [
            "5\n"
          ]
        }
      ]
    },
    {
      "cell_type": "markdown",
      "source": [
        "#Euclidean Distance"
      ],
      "metadata": {
        "id": "YruNumehkaIl"
      }
    },
    {
      "cell_type": "code",
      "source": [
        "# hitung selisih antara dua vectors\n",
        "temp = P1 - P2\n",
        "\n",
        "# gunakan formula euclidean di library numpy\n",
        "euclid_dist = np.sqrt(np.dot(temp.T, temp))\n",
        "print(euclid_dist)\n",
        "print(np.dot(temp.T, temp))"
      ],
      "metadata": {
        "colab": {
          "base_uri": "https://localhost:8080/"
        },
        "id": "23OnHFOnkhHt",
        "outputId": "fa1c56c5-27a5-4d22-b9d3-cd83fe61f1c2"
      },
      "execution_count": null,
      "outputs": [
        {
          "output_type": "stream",
          "name": "stdout",
          "text": [
            "3.605551275463989\n",
            "13\n"
          ]
        }
      ]
    },
    {
      "cell_type": "markdown",
      "source": [
        "# Mahalanobis Distance"
      ],
      "metadata": {
        "id": "fw-IgJ3Dk8rF"
      }
    },
    {
      "cell_type": "code",
      "source": [
        "# Hitung kovarians dan invers kovarians dari dataset\n",
        "cov = np.cov(x.T)\n",
        "inv_cov = np.linalg.inv(cov)\n",
        "\n",
        "# Dua data baru dalam dataset\n",
        "x1 = np.array([7.1, 145, 3])\n",
        "x2 = np.array([6.0, 100, 5])\n",
        "\n",
        "# Hitung jarak Mahalanobis antara dua titik\n",
        "mhlnbs_dist = mahalanobis(x1, x2, inv_cov)\n",
        "print(mhlnbs_dist)"
      ],
      "metadata": {
        "colab": {
          "base_uri": "https://localhost:8080/"
        },
        "id": "e6mQJlAfk_iD",
        "outputId": "b9f446d5-3977-465d-e6b4-8e64a1e2716b"
      },
      "execution_count": null,
      "outputs": [
        {
          "output_type": "stream",
          "name": "stdout",
          "text": [
            "15.370699331286659\n"
          ]
        }
      ]
    },
    {
      "cell_type": "markdown",
      "source": [
        "# TUGAS 3 MACHINE LEARNING\n",
        "\n",
        "*   Tentukan mahalanobis distance setiap row yang ada di data ini\n",
        "*   Normalisasi juga hasil mahalanobis distance menggunakan perhitungan p-value\n",
        "\n"
      ],
      "metadata": {
        "id": "0m6rZquj1JI3"
      }
    },
    {
      "cell_type": "markdown",
      "source": [
        "# Library"
      ],
      "metadata": {
        "id": "E7hcfE0f1aSm"
      }
    },
    {
      "cell_type": "code",
      "source": [
        "# Importing libraries\n",
        "  \n",
        "import numpy as np\n",
        "import pandas as pd \n",
        "import scipy as stats"
      ],
      "metadata": {
        "id": "DJQqNNsP1ZN6"
      },
      "execution_count": null,
      "outputs": []
    },
    {
      "cell_type": "markdown",
      "source": [
        "#Dataset"
      ],
      "metadata": {
        "id": "2wYTtUvh1jxb"
      }
    },
    {
      "cell_type": "code",
      "source": [
        "# dataset kedua untuk perhitungan mahalanobis distance\n",
        "x = np.array([[7.0, 165, 5], [7.4, 160, 5], [7.1, 170, 4], [7.3, 150, 5], \\\n",
        "              [7.2, 160, 3], [7.1, 145, 3]])"
      ],
      "metadata": {
        "id": "c89wwAPM1h3A"
      },
      "execution_count": null,
      "outputs": []
    },
    {
      "cell_type": "code",
      "source": [
        "# info dataset\n",
        "print(x)"
      ],
      "metadata": {
        "colab": {
          "base_uri": "https://localhost:8080/"
        },
        "id": "l1FzSelG1qHi",
        "outputId": "5f844892-846d-4865-ea17-668c7fb541b9"
      },
      "execution_count": null,
      "outputs": [
        {
          "output_type": "stream",
          "name": "stdout",
          "text": [
            "[[  7.  165.    5. ]\n",
            " [  7.4 160.    5. ]\n",
            " [  7.1 170.    4. ]\n",
            " [  7.3 150.    5. ]\n",
            " [  7.2 160.    3. ]\n",
            " [  7.1 145.    3. ]]\n"
          ]
        }
      ]
    },
    {
      "cell_type": "markdown",
      "source": [
        "# Mahalanobis Distance"
      ],
      "metadata": {
        "id": "ABNqZp8I1uhI"
      }
    },
    {
      "cell_type": "code",
      "source": [
        "# data \n",
        "data = { 'Diameter (f1)': [7.0, 7.4, 7.1, 7.3, 7.2, 7.1, 6.0],\n",
        "         'Berat (f2)': [165, 160, 170, 150, 160, 145, 100],\n",
        "         'Tingkat Kemerahan (f3)': [5, 5, 4, 5, 3, 3, 5]\n",
        "           }\n",
        "  \n",
        "# Creating dataset\n",
        "df = pd.DataFrame(data,columns=['Diameter (f1)', 'Berat (f2)',\n",
        "                                'Tingkat Kemerahan (f3)'])"
      ],
      "metadata": {
        "id": "NJR1-YLd1yQ2"
      },
      "execution_count": null,
      "outputs": []
    },
    {
      "cell_type": "code",
      "source": [
        "# Menghitung Mahalanobis Distance\n",
        "def calculateMahalanobis(y=None, data=None, cov=None):\n",
        "  \n",
        "    y_mu = y - np.mean(data)\n",
        "    if not cov:\n",
        "        cov = np.cov(data.values.T)\n",
        "    inv_covmat = np.linalg.inv(cov)\n",
        "    left = np.dot(y_mu, inv_covmat)\n",
        "    mahal = np.dot(left, y_mu.T)\n",
        "    return mahal.diagonal()\n",
        "  \n",
        "# data\n",
        "data = { 'Diameter (f1)': [7.0, 7.4, 7.1, 7.3, 7.2, 7.1, 6.0],\n",
        "         'Berat (f2)': [165, 160, 170, 150, 160, 145, 100],\n",
        "         'Tingkat Kemerahan (f3)': [5, 5, 4, 5, 3, 3, 5]\n",
        "           }\n",
        "  \n",
        "# Creating dataset\n",
        "df = pd.DataFrame(data,columns=['Diameter (f1)', 'Berat (f2)',\n",
        "                                'Tingkat Kemerahan (f3)'])\n",
        "  \n",
        "df['calculateMahalanobis'] = calculateMahalanobis(y=df, data=df[[\n",
        "  'Diameter (f1)', 'Berat (f2)', 'Tingkat Kemerahan (f3)']])\n",
        "  \n",
        "# Menampilkan dataframe\n",
        "print(df)"
      ],
      "metadata": {
        "colab": {
          "base_uri": "https://localhost:8080/"
        },
        "id": "8j1yCnvv11L3",
        "outputId": "dd263e4c-739a-4e3f-e8cb-01eb485b8e5f"
      },
      "execution_count": null,
      "outputs": [
        {
          "output_type": "stream",
          "name": "stdout",
          "text": [
            "   Diameter (f1)  Berat (f2)  Tingkat Kemerahan (f3)  calculateMahalanobis\n",
            "0            7.0         165                       5              2.444376\n",
            "1            7.4         160                       5              1.940472\n",
            "2            7.1         170                       4              1.999789\n",
            "3            7.3         150                       5              2.301735\n",
            "4            7.2         160                       3              1.845689\n",
            "5            7.1         145                       3              2.483532\n",
            "6            6.0         100                       5              4.984406\n"
          ]
        }
      ]
    },
    {
      "cell_type": "markdown",
      "source": [
        "# Normalisasi Mahalanobis Distance Menggunakan P-Value"
      ],
      "metadata": {
        "id": "KcejHLmc2v2u"
      }
    },
    {
      "cell_type": "markdown",
      "source": [
        "# Library"
      ],
      "metadata": {
        "id": "OmEl8XN123bK"
      }
    },
    {
      "cell_type": "code",
      "source": [
        "import numpy as np\n",
        "import pandas as pd\n",
        "import scipy as stats\n",
        "from scipy.stats import chi2"
      ],
      "metadata": {
        "id": "Ua6kZJ-621xB"
      },
      "execution_count": null,
      "outputs": []
    },
    {
      "cell_type": "code",
      "source": [
        "def calculateMahalanobis(y=None, data=None, cov=None):\n",
        "  \n",
        "    y_mu = y - np.mean(data)\n",
        "    if not cov:\n",
        "        cov = np.cov(data.values.T)\n",
        "    inv_covmat = np.linalg.inv(cov)\n",
        "    left = np.dot(y_mu, inv_covmat)\n",
        "    mahal = np.dot(left, y_mu.T)\n",
        "    return mahal.diagonal()\n",
        "  \n",
        "# data\n",
        "data = { 'Diameter (f1)': [7.0, 7.4, 7.1, 7.3, 7.2, 7.1, 6.0],\n",
        "         'Berat (f2)': [165, 160, 170, 150, 160, 145, 100],\n",
        "         'Tingkat Kemerahan (f3)': [5, 5, 4, 5, 3, 3, 5]\n",
        "           }\n",
        "  \n",
        "# Creating dataset\n",
        "df = pd.DataFrame(data,columns=['Diameter (f1)', 'Berat (f2)',\n",
        "                                'Tingkat Kemerahan (f3)'])\n",
        "  \n",
        "df['Mahalanobis'] = calculateMahalanobis(y=df, data=df[[\n",
        "  'Diameter (f1)', 'Berat (f2)', 'Tingkat Kemerahan (f3)']])\n",
        "  \n",
        "# Menghitung p-value mahalanobis distance\n",
        "df['p'] = 1 - chi2.cdf(df['Mahalanobis'], 3)\n",
        "  \n",
        "print(df)"
      ],
      "metadata": {
        "colab": {
          "base_uri": "https://localhost:8080/"
        },
        "id": "PTFQaRs-2-wf",
        "outputId": "477d97be-e5fe-422c-d4eb-0b261ea9e028"
      },
      "execution_count": null,
      "outputs": [
        {
          "output_type": "stream",
          "name": "stdout",
          "text": [
            "   Diameter (f1)  Berat (f2)  Tingkat Kemerahan (f3)  Mahalanobis         p\n",
            "0            7.0         165                       5     2.444376  0.485428\n",
            "1            7.4         160                       5     1.940472  0.584853\n",
            "2            7.1         170                       4     1.999789  0.572450\n",
            "3            7.3         150                       5     2.301735  0.512189\n",
            "4            7.2         160                       3     1.845689  0.605043\n",
            "5            7.1         145                       3     2.483532  0.478275\n",
            "6            6.0         100                       5     4.984406  0.172943\n"
          ]
        }
      ]
    }
  ]
}